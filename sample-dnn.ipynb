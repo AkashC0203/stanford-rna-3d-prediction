{
 "cells": [
  {
   "cell_type": "code",
   "execution_count": 6,
   "metadata": {},
   "outputs": [],
   "source": [
    "import torch\n",
    "import torch.nn as nn\n",
    "import torch.optim as optim\n",
    "import numpy as np\n",
    "from sklearn.preprocessing import StandardScaler\n",
    "import pandas as pd"
   ]
  },
  {
   "cell_type": "code",
   "execution_count": 7,
   "metadata": {},
   "outputs": [],
   "source": [
    "train_data = pd.read_csv(\"./data/train_sequences.csv\")\n",
    "train_labels = pd.read_csv(\"./data/train_labels.csv\")\n",
    "val_data = pd.read_csv(\"./data/validation_sequences.csv\")\n",
    "val_labels = pd.read_csv(\"./data/validation_labels.csv\")\n"
   ]
  },
  {
   "cell_type": "code",
   "execution_count": 8,
   "metadata": {},
   "outputs": [],
   "source": [
    "def one_hot_encode(sequence):\n",
    "    # Map nucleotides to index (A: 0, C: 1, G: 2, U: 3)\n",
    "    mapping = {'A': 0, 'C': 1, 'G': 2, 'U': 3}\n",
    "    encoded = np.zeros((len(sequence), 4), dtype=np.float32)\n",
    "    \n",
    "    for i, nucleotide in enumerate(sequence):\n",
    "        if nucleotide in mapping:\n",
    "            encoded[i, mapping[nucleotide]] = 1.0\n",
    "    \n",
    "    return encoded"
   ]
  },
  {
   "cell_type": "code",
   "execution_count": 9,
   "metadata": {},
   "outputs": [],
   "source": [
    "class RNA3DNN(nn.Module):\n",
    "    def __init__(self, input_dim, hidden_dim, output_dim):\n",
    "        super(RNA3DNN, self).__init__()\n",
    "        # Define layers\n",
    "        self.fc1 = nn.Linear(input_dim, hidden_dim)\n",
    "        self.fc2 = nn.Linear(hidden_dim, hidden_dim)\n",
    "        self.fc3 = nn.Linear(hidden_dim, output_dim)  # output 3 coordinates for each residue\n",
    "\n",
    "    def forward(self, x):\n",
    "        x = torch.relu(self.fc1(x))\n",
    "        x = torch.relu(self.fc2(x))\n",
    "        x = self.fc3(x)\n",
    "        return x"
   ]
  },
  {
   "cell_type": "code",
   "execution_count": 10,
   "metadata": {},
   "outputs": [],
   "source": [
    "def train_model(model, train_data, train_labels, epochs=100, lr=0.001):\n",
    "    model.train()\n",
    "    optimizer = optim.Adam(model.parameters(), lr=lr)\n",
    "    criterion = nn.MSELoss()\n",
    "\n",
    "    for epoch in range(epochs):\n",
    "        optimizer.zero_grad()\n",
    "        \n",
    "        # Get the input data and labels\n",
    "        sequences = [seq for seq in train_data['sequence']]\n",
    "        true_coords = train_labels[['x_1', 'y_1', 'z_1']].values\n",
    "        \n",
    "        # One-hot encode the sequences\n",
    "        inputs = np.array([one_hot_encode(seq) for seq in sequences])\n",
    "        inputs = torch.tensor(inputs, dtype=torch.float32)\n",
    "        true_coords = torch.tensor(true_coords, dtype=torch.float32)\n",
    "        \n",
    "        # Flatten inputs to (batch_size, sequence_length * 4)\n",
    "        inputs = inputs.view(inputs.shape[0], -1)\n",
    "        \n",
    "        # Forward pass\n",
    "        preds = model(inputs)\n",
    "        \n",
    "        # Compute loss\n",
    "        loss = criterion(preds, true_coords)\n",
    "        \n",
    "        # Backward pass and optimization\n",
    "        loss.backward()\n",
    "        optimizer.step()\n",
    "        \n",
    "        if epoch % 10 == 0:\n",
    "            print(f'Epoch {epoch}, Loss: {loss.item()}')"
   ]
  },
  {
   "cell_type": "code",
   "execution_count": 11,
   "metadata": {},
   "outputs": [],
   "source": [
    "def compute_tm_score(pred_coords, true_coords):\n",
    "    \"\"\"\n",
    "    Compute a TM-score between two structures based on the provided formula.\n",
    "    \"\"\"\n",
    "    L_ref = true_coords.shape[0]\n",
    "    L_align = pred_coords.shape[0]\n",
    "    \n",
    "    # Compute d0 (scaling factor)\n",
    "    if L_ref >= 30:\n",
    "        d0 = 0.6 * np.sqrt(L_ref - 0.5) - 2.5\n",
    "    else:\n",
    "        d0_values = {12: 0.3, 15: 0.4, 19: 0.5, 23: 0.6, 29: 0.7}\n",
    "        d0 = d0_values.get(L_ref, 0.7)\n",
    "    \n",
    "    # Compute pairwise distances between corresponding residues\n",
    "    distances = np.linalg.norm(pred_coords - true_coords, axis=1)\n",
    "\n",
    "    # Compute the TM-score\n",
    "    tm_score = np.sum(1 / (1 + (distances / d0)**2)) / L_ref\n",
    "    return tm_score\n",
    "\n",
    "# Evaluate the model on the validation set\n",
    "def evaluate_tm_score(model, val_data, val_labels):\n",
    "    model.eval()\n",
    "    tm_scores = []\n",
    "    \n",
    "    with torch.no_grad():\n",
    "        # Get the input data and labels\n",
    "        sequences = [seq for seq in val_data['sequence']]\n",
    "        true_coords = val_labels[['x_1', 'y_1', 'z_1']].values\n",
    "        \n",
    "        # One-hot encode the sequences\n",
    "        inputs = np.array([one_hot_encode(seq) for seq in sequences])\n",
    "        inputs = torch.tensor(inputs, dtype=torch.float32)\n",
    "        true_coords = torch.tensor(true_coords, dtype=torch.float32)\n",
    "        \n",
    "        # Flatten inputs\n",
    "        inputs = inputs.view(inputs.shape[0], -1)\n",
    "        \n",
    "        # Predict\n",
    "        preds = model(inputs)\n",
    "        \n",
    "        # Compute TM-score\n",
    "        pred_coords = preds.cpu().numpy()\n",
    "        true_coords = true_coords.cpu().numpy()\n",
    "        tm = compute_tm_score(pred_coords, true_coords)\n",
    "        tm_scores.append(tm)\n",
    "    \n",
    "    avg_tm_score = np.mean(tm_scores)\n",
    "    return avg_tm_score"
   ]
  },
  {
   "cell_type": "code",
   "execution_count": 12,
   "metadata": {},
   "outputs": [],
   "source": [
    "input_dim = 4 * 30  # For example, 30 nucleotide-long sequences with 4 possible nucleotides (A, C, G, U)\n",
    "hidden_dim = 256\n",
    "output_dim = 3  # x, y, z coordinates\n",
    "model = RNA3DNN(input_dim, hidden_dim, output_dim)"
   ]
  },
  {
   "cell_type": "code",
   "execution_count": 13,
   "metadata": {},
   "outputs": [
    {
     "ename": "ValueError",
     "evalue": "setting an array element with a sequence. The requested array has an inhomogeneous shape after 1 dimensions. The detected shape was (844,) + inhomogeneous part.",
     "output_type": "error",
     "traceback": [
      "\u001b[31m---------------------------------------------------------------------------\u001b[39m",
      "\u001b[31mValueError\u001b[39m                                Traceback (most recent call last)",
      "\u001b[36mCell\u001b[39m\u001b[36m \u001b[39m\u001b[32mIn[13]\u001b[39m\u001b[32m, line 1\u001b[39m\n\u001b[32m----> \u001b[39m\u001b[32m1\u001b[39m \u001b[43mtrain_model\u001b[49m\u001b[43m(\u001b[49m\u001b[43mmodel\u001b[49m\u001b[43m,\u001b[49m\u001b[43m \u001b[49m\u001b[43mtrain_data\u001b[49m\u001b[43m,\u001b[49m\u001b[43m \u001b[49m\u001b[43mtrain_labels\u001b[49m\u001b[43m,\u001b[49m\u001b[43m \u001b[49m\u001b[43mepochs\u001b[49m\u001b[43m=\u001b[49m\u001b[32;43m100\u001b[39;49m\u001b[43m,\u001b[49m\u001b[43m \u001b[49m\u001b[43mlr\u001b[49m\u001b[43m=\u001b[49m\u001b[32;43m0.001\u001b[39;49m\u001b[43m)\u001b[49m\n",
      "\u001b[36mCell\u001b[39m\u001b[36m \u001b[39m\u001b[32mIn[10]\u001b[39m\u001b[32m, line 14\u001b[39m, in \u001b[36mtrain_model\u001b[39m\u001b[34m(model, train_data, train_labels, epochs, lr)\u001b[39m\n\u001b[32m     11\u001b[39m true_coords = train_labels[[\u001b[33m'\u001b[39m\u001b[33mx_1\u001b[39m\u001b[33m'\u001b[39m, \u001b[33m'\u001b[39m\u001b[33my_1\u001b[39m\u001b[33m'\u001b[39m, \u001b[33m'\u001b[39m\u001b[33mz_1\u001b[39m\u001b[33m'\u001b[39m]].values\n\u001b[32m     13\u001b[39m \u001b[38;5;66;03m# One-hot encode the sequences\u001b[39;00m\n\u001b[32m---> \u001b[39m\u001b[32m14\u001b[39m inputs = \u001b[43mnp\u001b[49m\u001b[43m.\u001b[49m\u001b[43marray\u001b[49m\u001b[43m(\u001b[49m\u001b[43m[\u001b[49m\u001b[43mone_hot_encode\u001b[49m\u001b[43m(\u001b[49m\u001b[43mseq\u001b[49m\u001b[43m)\u001b[49m\u001b[43m \u001b[49m\u001b[38;5;28;43;01mfor\u001b[39;49;00m\u001b[43m \u001b[49m\u001b[43mseq\u001b[49m\u001b[43m \u001b[49m\u001b[38;5;129;43;01min\u001b[39;49;00m\u001b[43m \u001b[49m\u001b[43msequences\u001b[49m\u001b[43m]\u001b[49m\u001b[43m)\u001b[49m\n\u001b[32m     15\u001b[39m inputs = torch.tensor(inputs, dtype=torch.float32)\n\u001b[32m     16\u001b[39m true_coords = torch.tensor(true_coords, dtype=torch.float32)\n",
      "\u001b[31mValueError\u001b[39m: setting an array element with a sequence. The requested array has an inhomogeneous shape after 1 dimensions. The detected shape was (844,) + inhomogeneous part."
     ]
    }
   ],
   "source": [
    "train_model(model, train_data, train_labels, epochs=100, lr=0.001)"
   ]
  }
 ],
 "metadata": {
  "kernelspec": {
   "display_name": ".venv",
   "language": "python",
   "name": "python3"
  },
  "language_info": {
   "codemirror_mode": {
    "name": "ipython",
    "version": 3
   },
   "file_extension": ".py",
   "mimetype": "text/x-python",
   "name": "python",
   "nbconvert_exporter": "python",
   "pygments_lexer": "ipython3",
   "version": "3.13.2"
  }
 },
 "nbformat": 4,
 "nbformat_minor": 2
}
